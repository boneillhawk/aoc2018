{
 "cells": [
  {
   "cell_type": "markdown",
   "metadata": {},
   "source": [
    "# Advent of Code 2018\n",
    "\n",
    "This is my record and commentary of the [2018 Advent of Code](https://adventofcode.com/2018). I'm solving puzzles using Python 3, and when I can, I'm trying to stay up and solve each puzzle at midnight.\n",
    "\n",
    "Each day, I'm starting with the same template file. The template imports the following modules, which I've found useful for puzzles over the last two years:\n",
    "* ```copy``` -- Useful for deep copying states in complex search problem. I'll use this if A* search is required at any point.\n",
    "* ```collections``` -- Helpful if a puzzle calls for a stack or a queue, when a list won't cut it due to running time.\n",
    "* ```heapq``` -- Priority queues!\n",
    "* ```itertools``` -- I learned about this during the 2016 competition, and it is extremely useful. It won't be long before I'll use the ```permutations``` or ```combinations``` functions.\n",
    "* ```functools``` -- Useful for functions on functions. I'm not positive whether I've actually used this on a puzzle in the past, but when I need it, I'll be glad to have it.\n",
    "* ```math``` -- I'll need square roots eventually.\n",
    "* ```hashlib``` -- Advent of Code has used MD5 each of the last two years. This is prep for when that happens again."
   ]
  },
  {
   "cell_type": "markdown",
   "metadata": {},
   "source": [
    "## Day 1\n",
    "### Part a -- (192nd, 00:01:54)\n",
    "Starting from a frequency of 0, walk through a list of frequency changes (puzzle input) and determine the final frequency.\n",
    "\n",
    "The puzzle input is a series of positive and negative changes in frequency, e.g. ```+1, -2, +3, +1```, with each frequency on its own line. The code is below, but for speed, I wish I had thought to simply call the ```sum()``` function on the puzzle data."
   ]
  },
  {
   "cell_type": "code",
   "execution_count": 2,
   "metadata": {},
   "outputs": [
    {
     "name": "stdout",
     "output_type": "stream",
     "text": [
      "433\n"
     ]
    }
   ],
   "source": [
    "f = open('input\\\\input1.txt', 'r')\n",
    "data = [int(line.strip()) for line in f.readlines()] # List of inputs\n",
    "f.close()\n",
    "\n",
    "total = 0\n",
    "for i in data:\n",
    "    total += i\n",
    "print(total)"
   ]
  },
  {
   "cell_type": "markdown",
   "metadata": {},
   "source": [
    "### Part b -- (57th, 00:04:29)\n",
    "Starting from a frequency of 0, determine the frequency which is reached twice (0 is included as an option). Since this could happen at any position in the list, I'm happy that I'd set up the ```for``` loop for Part (a). Solution below, with comments following."
   ]
  },
  {
   "cell_type": "code",
   "execution_count": 7,
   "metadata": {},
   "outputs": [
    {
     "name": "stdout",
     "output_type": "stream",
     "text": [
      "256\n"
     ]
    },
    {
     "ename": "SystemExit",
     "evalue": "0",
     "output_type": "error",
     "traceback": [
      "An exception has occurred, use %tb to see the full traceback.\n",
      "\u001b[1;31mSystemExit\u001b[0m\u001b[1;31m:\u001b[0m 0\n"
     ]
    },
    {
     "name": "stderr",
     "output_type": "stream",
     "text": [
      "c:\\users\\bo338376\\appdata\\local\\programs\\python\\python36-32\\lib\\site-packages\\IPython\\core\\interactiveshell.py:2969: UserWarning: To exit: use 'exit', 'quit', or Ctrl-D.\n",
      "  warn(\"To exit: use 'exit', 'quit', or Ctrl-D.\", stacklevel=1)\n"
     ]
    }
   ],
   "source": [
    "import sys\n",
    "\n",
    "f = open('input\\\\input1.txt', 'r')\n",
    "data = [int(line.strip()) for line in f.readlines()] # List of inputs\n",
    "f.close()\n",
    "\n",
    "total = 0\n",
    "visited = dict()\n",
    "visited[0] = True\n",
    "while True:\n",
    "    for i in data:\n",
    "        total += i\n",
    "        if visited.get(total,False):\n",
    "            print(total)\n",
    "            sys.exit(0)\n",
    "        visited[total] = True"
   ]
  },
  {
   "cell_type": "markdown",
   "metadata": {},
   "source": [
    "There are a lot of things I did in my solution that works but I hate or consider hack-y.\n",
    "1. I started out using a set, but for some reason (I'm rusty at these challenges and/or it was midnight and my brain didn't work) I switched to a dictionary with frequencies mapped to ```True``` when they were observed.\n",
    "2. I blame the ```if``` statement on the same problem (rust/midnight). A better statement would have been ```if total in visited:```, which would have worked for a set or a dictionary. \n",
    "3. The ```sys.exit(0)``` line forces the code to quit once a frequency has been duplicated. This is the hackiest thing I did in this solution (and Jupyter hates it, hence the UserWarning above). A better approach would have been to put the puzzle code in a function and return the duplicated value.\n",
    "\n",
    "The code below is a more optimized approach to both parts. Both parts are in functions, which lets me return the result in Part (b) and avoid using ```sys.exit()```. I've also fixed the other two points I raised above, using a set and making a better ```if``` statement. Finally, instead of nesting the for loop inside a ```while True``` loop, the for loop now iterates over ```cycle(data)```. This function, from the ```itertools``` module, takes any iterable and makes it infinite by starting over when it reaches the end. Since the frequency doesn't duplicate in one pass through the list, this lets us keep repeating the list until the duplication happens."
   ]
  },
  {
   "cell_type": "code",
   "execution_count": 9,
   "metadata": {},
   "outputs": [
    {
     "name": "stdout",
     "output_type": "stream",
     "text": [
      "Part a: 433\n",
      "Part b: 256\n"
     ]
    }
   ],
   "source": [
    "from itertools import *\n",
    "\n",
    "f = open('input\\\\input1.txt', 'r')\n",
    "data = [int(line.strip()) for line in f.readlines()] # List of inputs\n",
    "f.close()\n",
    "\n",
    "def day1a(data):\n",
    "    return sum(data)\n",
    "\n",
    "def day1b(data):\n",
    "    total = 0\n",
    "    visited = set()\n",
    "    visited.add(0)\n",
    "    for i in cycle(data):\n",
    "        total += i\n",
    "        if total in visited:\n",
    "            return total\n",
    "        visited.add(total)\n",
    "\n",
    "print('Part a:',day1a(data))\n",
    "print('Part b:',day1b(data))"
   ]
  }
 ],
 "metadata": {
  "kernelspec": {
   "display_name": "Python 3",
   "language": "python",
   "name": "python3"
  },
  "language_info": {
   "codemirror_mode": {
    "name": "ipython",
    "version": 3
   },
   "file_extension": ".py",
   "mimetype": "text/x-python",
   "name": "python",
   "nbconvert_exporter": "python",
   "pygments_lexer": "ipython3",
   "version": "3.6.5"
  }
 },
 "nbformat": 4,
 "nbformat_minor": 2
}
