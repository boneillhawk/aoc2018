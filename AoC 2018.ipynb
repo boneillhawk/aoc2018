{
 "cells": [
  {
   "cell_type": "markdown",
   "metadata": {},
   "source": [
    "# Advent of Code 2018\n",
    "\n",
    "This is my record and commentary of the [2018 Advent of Code](https://adventofcode.com/2018). I'm solving puzzles using Python 3, and when I can, I'm trying to stay up and solve each puzzle at midnight.\n",
    "\n",
    "Each day, I'm starting with the same template file. The template imports the following modules, which I've found useful for puzzles over the last two years:\n",
    "* ```copy``` -- Useful for deep copying states in complex search problem. I'll use this if A* search is required at any point.\n",
    "* ```collections``` -- Helpful if a puzzle calls for a stack or a queue, when a list won't cut it due to running time.\n",
    "* ```heapq``` -- Priority queues!\n",
    "* ```itertools``` -- I learned about this during the 2016 competition, and it is extremely useful. It won't be long before I'll use the ```permutations``` or ```combinations``` functions.\n",
    "* ```functools``` -- Useful for functions on functions. I'm not positive whether I've actually used this on a puzzle in the past, but when I need it, I'll be glad to have it.\n",
    "* ```math``` -- I'll need square roots eventually.\n",
    "* ```hashlib``` -- Advent of Code has used MD5 each of the last two years. This is prep for when that happens again."
   ]
  },
  {
   "cell_type": "markdown",
   "metadata": {},
   "source": [
    "## Day 1\n",
    "### Part a -- (192nd, 00:01:54)\n",
    "Starting from a frequency of 0, walk through a list of frequency changes (puzzle input) and determine the final frequency.\n",
    "\n",
    "The puzzle input is a series of positive and negative changes in frequency, e.g. ```+1, -2, +3, +1```, with each frequency on its own line. The code is below, but for speed, I wish I had thought to simply call the ```sum()``` function on the puzzle data. When I started, I wasn't sure if something like ```+1``` was a valid string for conversion to an integer. Python allows ```+``` and ```-``` in integer strings."
   ]
  },
  {
   "cell_type": "code",
   "execution_count": 2,
   "metadata": {},
   "outputs": [
    {
     "name": "stdout",
     "output_type": "stream",
     "text": [
      "433\n"
     ]
    }
   ],
   "source": [
    "f = open('input\\\\input1.txt', 'r')\n",
    "data = [int(line.strip()) for line in f.readlines()] # List of inputs\n",
    "f.close()\n",
    "\n",
    "total = 0\n",
    "for i in data:\n",
    "    total += i\n",
    "print(total)"
   ]
  },
  {
   "cell_type": "markdown",
   "metadata": {},
   "source": [
    "### Part b -- (57th, 00:04:29)\n",
    "Starting from a frequency of 0, determine the frequency which is reached twice (0 is included as an option). Since this could happen at any position in the list, I'm happy that I'd set up the ```for``` loop for Part (a). Solution below, with comments following."
   ]
  },
  {
   "cell_type": "code",
   "execution_count": 7,
   "metadata": {},
   "outputs": [
    {
     "name": "stdout",
     "output_type": "stream",
     "text": [
      "256\n"
     ]
    },
    {
     "ename": "SystemExit",
     "evalue": "0",
     "output_type": "error",
     "traceback": [
      "An exception has occurred, use %tb to see the full traceback.\n",
      "\u001b[1;31mSystemExit\u001b[0m\u001b[1;31m:\u001b[0m 0\n"
     ]
    },
    {
     "name": "stderr",
     "output_type": "stream",
     "text": [
      "c:\\users\\bo338376\\appdata\\local\\programs\\python\\python36-32\\lib\\site-packages\\IPython\\core\\interactiveshell.py:2969: UserWarning: To exit: use 'exit', 'quit', or Ctrl-D.\n",
      "  warn(\"To exit: use 'exit', 'quit', or Ctrl-D.\", stacklevel=1)\n"
     ]
    }
   ],
   "source": [
    "import sys\n",
    "\n",
    "f = open('input\\\\input1.txt', 'r')\n",
    "data = [int(line.strip()) for line in f.readlines()] # List of inputs\n",
    "f.close()\n",
    "\n",
    "total = 0\n",
    "visited = dict()\n",
    "visited[0] = True\n",
    "while True:\n",
    "    for i in data:\n",
    "        total += i\n",
    "        if visited.get(total,False):\n",
    "            print(total)\n",
    "            sys.exit(0)\n",
    "        visited[total] = True"
   ]
  },
  {
   "cell_type": "markdown",
   "metadata": {},
   "source": [
    "There are a lot of things I did in my solution that works but I hate or consider hack-y.\n",
    "1. I started out using a set, but for some reason (I'm rusty at these challenges and/or it was midnight and my brain didn't work) I switched to a dictionary with frequencies mapped to ```True``` when they were observed.\n",
    "2. I blame the ```if``` statement on the same problem (rust/midnight). A better statement would have been ```if total in visited:```, which would have worked for a set or a dictionary. \n",
    "3. The ```sys.exit(0)``` line forces the code to quit once a frequency has been duplicated. This is the hackiest thing I did in this solution (and Jupyter hates it, hence the UserWarning above). A better approach would have been to put the puzzle code in a function and return the duplicated value.\n",
    "\n",
    "The code below is a more optimized approach to both parts. Both parts are in functions, which lets me return the result in Part (b) and avoid using ```sys.exit()```. I've also fixed the other two points I raised above, using a set and making a better ```if``` statement. Finally, instead of nesting the for loop inside a ```while True``` loop, the for loop now iterates over ```cycle(data)```. This function, from the ```itertools``` module, takes any iterable and makes it infinite by starting over when it reaches the end. Since the frequency doesn't duplicate in one pass through the list, this lets us keep repeating the list until the duplication happens."
   ]
  },
  {
   "cell_type": "code",
   "execution_count": 9,
   "metadata": {},
   "outputs": [
    {
     "name": "stdout",
     "output_type": "stream",
     "text": [
      "Part a: 433\n",
      "Part b: 256\n"
     ]
    }
   ],
   "source": [
    "from itertools import *\n",
    "\n",
    "f = open('input\\\\input1.txt', 'r')\n",
    "data = [int(line.strip()) for line in f.readlines()] # List of inputs\n",
    "f.close()\n",
    "\n",
    "def day1a(data):\n",
    "    return sum(data)\n",
    "\n",
    "def day1b(data):\n",
    "    total = 0\n",
    "    visited = set()\n",
    "    visited.add(0)\n",
    "    for i in cycle(data):\n",
    "        total += i\n",
    "        if total in visited:\n",
    "            return total\n",
    "        visited.add(total)\n",
    "\n",
    "print('Part a:',day1a(data))\n",
    "print('Part b:',day1b(data))"
   ]
  },
  {
   "cell_type": "markdown",
   "metadata": {},
   "source": [
    "## Day 2\n",
    "### Part a -- (58th, 00:02:53)\n",
    "\n",
    "Given a list of strings, count how many of the strings contain exactly two of any character and exactly three of any character. (A string may qualify as both.) Return the checksum, which is the product of the two totals.\n",
    "\n",
    "For each string, I construct a dictionary mapping characters to frequencies. After parsing the string, I check the dictionary to see if any of the values are 2 or 3. If so, I increment the counters for when we've seen two of a character or three of a character. "
   ]
  },
  {
   "cell_type": "code",
   "execution_count": 1,
   "metadata": {},
   "outputs": [
    {
     "name": "stdout",
     "output_type": "stream",
     "text": [
      "6944\n"
     ]
    }
   ],
   "source": [
    "f = open('input\\\\input2.txt', 'r')\n",
    "data = [line.strip() for line in f.readlines()] # List of inputs\n",
    "f.close()\n",
    "\n",
    "def day2a(data):\n",
    "    twos = 0\n",
    "    threes = 0\n",
    "    for line in data:\n",
    "        dct = {}\n",
    "        sawTwo = False\n",
    "        sawThree = False\n",
    "        for ch in line:\n",
    "            dct[ch] = dct.get(ch,0) + 1\n",
    "        for key in dct:\n",
    "            if dct[key] == 2:\n",
    "                sawTwo = True\n",
    "            if dct[key] == 3:\n",
    "                sawThree = True\n",
    "        if sawTwo:\n",
    "            twos += 1\n",
    "        if sawThree:\n",
    "            threes += 1\n",
    "    return twos*threes\n",
    "\n",
    "print(day2a(data))"
   ]
  },
  {
   "cell_type": "markdown",
   "metadata": {},
   "source": [
    "### Part b (100th, 00:07:45)\n",
    "The same list of strings contains two strings that are identical except for one character that differs. Identify the identical part of the string, removing the differing character.\n",
    "\n",
    "My solution doesn't return the string exactly. Instead, it returns the pair of strings. I parsed through the strings manually to determine which character to remove. This was not a great decision, as I accidentally deleted the wrong character on my first attempt. This cost me a minute of time (and 30 places on the leaderboard for this part).\n",
    "\n",
    "The outer loop iterates over all pairs of strings in the list. The ```combinations()``` function (from ```itertools```) returns all combinations in the set ```data```. The second argument defines the size of the combinations. The inner loop iterates over the strings, looking for indices where the strings are different. If the number of differences ever exceeds 1, then this is not the near-identical pair, so the loop breaks and moves on to the next pair. If after iterating over the string, there was only 1 difference, then the function returns the pair."
   ]
  },
  {
   "cell_type": "code",
   "execution_count": 3,
   "metadata": {},
   "outputs": [
    {
     "name": "stdout",
     "output_type": "stream",
     "text": [
      "('srijafjzloguvlnvtqmphenbkd', 'srijafjzloguvlnctqmphenbkd')\n"
     ]
    }
   ],
   "source": [
    "from itertools import *\n",
    "\n",
    "def day2b(data):\n",
    "    for x,y in combinations(data,2):\n",
    "        diffs = 0\n",
    "        for ch in range(len(x)):\n",
    "            if x[ch] != y[ch]:\n",
    "                diffs += 1\n",
    "            if diffs > 1:\n",
    "                break\n",
    "        if diffs == 1:\n",
    "            return x,y\n",
    "\n",
    "print(day2b(data))"
   ]
  },
  {
   "cell_type": "markdown",
   "metadata": {},
   "source": [
    "Overall, I'm happy with my solution to Part (a). I've updated the solution below to use the ```in``` operator to check for 2s and 3s in the dictionary's values. The running time is still $\\Theta(n)$, but it makes better use of Python operations.\n",
    "\n",
    "I made more substantial changes to Part (b) to ensure that the function returns the goal string rather than the matching pair. The ```diffIdx``` variable tracks the index where the differnt character was found. If a second different character is found, the ```found``` field tells us that this is not the matching pair and breaks out of this iteration of the loop. The return statement uses slicing to build the string without the differing character. The solution still runs in $\\Theta(n^2)$ time thanks to the ```combinations()``` call. I'm not sure if we can reduce this to linear time or even $\\Theta(n$ $lg(n))$ time."
   ]
  },
  {
   "cell_type": "code",
   "execution_count": 4,
   "metadata": {},
   "outputs": [
    {
     "name": "stdout",
     "output_type": "stream",
     "text": [
      "6944\n",
      "srijafjzloguvlntqmphenbkd\n"
     ]
    }
   ],
   "source": [
    "f = open('input\\\\input2.txt', 'r')\n",
    "data = [line.strip() for line in f.readlines()] # List of inputs\n",
    "f.close()\n",
    "\n",
    "def day2a(data):\n",
    "    twos = 0\n",
    "    threes = 0\n",
    "    for line in data:\n",
    "        dct = {}\n",
    "        for ch in line:\n",
    "            dct[ch] = dct.get(ch,0) + 1\n",
    "        counts = dct.values()\n",
    "        if 2 in counts:\n",
    "            twos += 1\n",
    "        if 3 in counts:\n",
    "            threes += 1\n",
    "    return twos*threes\n",
    "\n",
    "def day2b(data):\n",
    "    for x,y in combinations(data,2):\n",
    "        diffIdx = -1\n",
    "        found = False\n",
    "        for ch in range(len(x)):\n",
    "            if x[ch] != y[ch]:\n",
    "                if diffIdx >= 0:\n",
    "                    found = False\n",
    "                    break\n",
    "                else:\n",
    "                    found = True\n",
    "                    diffIdx = ch\n",
    "        if found:\n",
    "            return x[:diffIdx]+x[(diffIdx+1):]\n",
    "\n",
    "print(day2a(data))\n",
    "print(day2b(data))\n"
   ]
  }
 ],
 "metadata": {
  "kernelspec": {
   "display_name": "Python 3",
   "language": "python",
   "name": "python3"
  },
  "language_info": {
   "codemirror_mode": {
    "name": "ipython",
    "version": 3
   },
   "file_extension": ".py",
   "mimetype": "text/x-python",
   "name": "python",
   "nbconvert_exporter": "python",
   "pygments_lexer": "ipython3",
   "version": "3.6.5"
  }
 },
 "nbformat": 4,
 "nbformat_minor": 2
}
